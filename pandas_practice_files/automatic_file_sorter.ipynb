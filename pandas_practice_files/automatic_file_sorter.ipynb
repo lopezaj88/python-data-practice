{
 "cells": [
  {
   "cell_type": "code",
   "execution_count": null,
   "metadata": {},
   "outputs": [],
   "source": [
    "# -*- coding: utf-8 -*-\n",
    "\n",
    "\"\"\"\n",
    "automatic_file_sorter.py- Automatically sorts file in Windows File Explorer \n",
    "\"\"\"\n",
    "\n",
    "__author__ = \"Austin Lopez\"\n",
    "__version__ = \"1.0\"\n",
    "__email__ = \"lopezaj88@gmail.com\"\n",
    "__status__ = \"Testing\"\n",
    "\n",
    "# Import Modules\n",
    "import os\n",
    "import shutil\n",
    "\n",
    "# Define Variables\n",
    "path =r''\n",
    "folderNames = ['csv files', 'image files', 'text files']\n",
    "fileName = os.listdir(path)\n",
    "\n",
    "for loop in range(0,3):\n",
    "    if not os.path.exists(path + folderNames[loop]):\n",
    "        os.makedirs(path + folderNames[loop])\n",
    "\n",
    "for file in fileName:\n",
    "    if '.csv' in file and not os.path.exits(path + 'csv files/' + file):\n",
    "        shutil.move(path +file, path + 'csv files/' + file)\n",
    "    elif '.png' in file and not os.path.exits(path + 'image files/' + file):\n",
    "        shutil.move(path +file, path + 'image files/' + file)\n",
    "    if '.txt' in file and not os.path.exits(path + 'text files/' + file):\n",
    "        shutil.move(path +file, path + 'text files/' + file)\n",
    "    else:\n",
    "        print('There are files in this path that were not moved!')\n",
    "        \n",
    "        \n"
   ]
  }
 ],
 "metadata": {
  "language_info": {
   "name": "python"
  }
 },
 "nbformat": 4,
 "nbformat_minor": 2
}
