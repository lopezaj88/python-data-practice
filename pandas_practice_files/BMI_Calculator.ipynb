{
 "cells": [
  {
   "cell_type": "code",
   "execution_count": 5,
   "metadata": {},
   "outputs": [
    {
     "name": "stdout",
     "output_type": "stream",
     "text": [
      "Austin, your BMI is 27.194009125173576. You are overweight.\n"
     ]
    }
   ],
   "source": [
    "# -*- coding: utf-8 -*-\n",
    "\n",
    "\"\"\"\n",
    "BMI_Calculator.py- Calculates BMI using height and weight \n",
    "\"\"\"\n",
    "\n",
    "__author__ = \"Austin Lopez\"\n",
    "__version__ = \"1.0\"\n",
    "__email__ = \"lopezaj88@gmail.com\"\n",
    "__status__ = \"Testing\"\n",
    "\n",
    "# Basic formula\n",
    "# BMI = (weight in pounds * 703) / (height in inches * height in inches)\n",
    "\n",
    "# Import Modules\n",
    "\n",
    "# Define Variables\n",
    "name = input('Please enter your name: ')\n",
    "weight = float(input('Enter your weight in pounds: '))\n",
    "height = float(input('Enter your height in inches: '))\n",
    "\n",
    "# BMI Calculation\n",
    "BMI = (weight * 703)/(height ** 2) \n",
    "\n",
    "if BMI > 0:\n",
    "    if(BMI < 18.5):\n",
    "        print(f'{name}, your BMI is {BMI}. You are underweight.')\n",
    "    elif(BMI <= 24.9):\n",
    "        print(f'{name}, your BMI is {BMI}. Your weight is normal.')\n",
    "    elif(BMI < 34.9):\n",
    "        print(f'{name}, your BMI is {BMI}. You are overweight.')\n",
    "    elif(BMI < 39.9):\n",
    "        print(f'{name}, your BMI is {BMI}. You are severely obese.')\n",
    "    else:\n",
    "        print(f'{name}, your BMI is {BMI}. You are morbidly obese.')"
   ]
  }
 ],
 "metadata": {
  "kernelspec": {
   "display_name": "base",
   "language": "python",
   "name": "python3"
  },
  "language_info": {
   "codemirror_mode": {
    "name": "ipython",
    "version": 3
   },
   "file_extension": ".py",
   "mimetype": "text/x-python",
   "name": "python",
   "nbconvert_exporter": "python",
   "pygments_lexer": "ipython3",
   "version": "3.12.4"
  }
 },
 "nbformat": 4,
 "nbformat_minor": 2
}
