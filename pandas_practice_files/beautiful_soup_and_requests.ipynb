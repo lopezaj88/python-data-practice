{
 "cells": [
  {
   "cell_type": "code",
   "execution_count": null,
   "metadata": {},
   "outputs": [],
   "source": [
    "# -*- coding: utf-8 -*-\n",
    "\n",
    "\"\"\"\n",
    "beautiful_soup_and_requests.py- \n",
    "\"\"\"\n",
    "\n",
    "__author__ = \"Austin Lopez\"\n",
    "__version__ = \"1.0\"\n",
    "__email__ = \"lopezaj88@gmail.com\"\n",
    "__status__ = \"Testing\"\n",
    "\n",
    "# Import modules\n",
    "from bs4 import BeautifulSoup\n",
    "import requests\n",
    "\n",
    "# Define Variables\n",
    "url = 'https://www.scrapethissite.com/pages/forms/'\n",
    "page = requests.get(url)\n",
    "soup = BeautifulSoup(page.text,'html')\n",
    "\n",
    "soup.find('div') # finds first instance\n",
    "soup.find_all('div') # finds all instances in html\n",
    "\n"
   ]
  }
 ],
 "metadata": {
  "language_info": {
   "name": "python"
  }
 },
 "nbformat": 4,
 "nbformat_minor": 2
}
