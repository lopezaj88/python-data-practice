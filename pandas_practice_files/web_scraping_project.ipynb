{
 "cells": [
  {
   "cell_type": "code",
   "execution_count": 11,
   "metadata": {},
   "outputs": [],
   "source": [
    "# -*- coding: utf-8 -*-\n",
    "\n",
    "\"\"\"\n",
    "web_scraping_project.py- Scrapes data from a website \n",
    "\"\"\"\n",
    "\n",
    "__author__ = \"Austin Lopez\"\n",
    "__version__ = \"1.0\"\n",
    "__email__ = \"lopezaj88@gmail.com\"\n",
    "__status__ = \"Testing\"\n",
    "\n",
    "# Import modules\n",
    "from bs4 import BeautifulSoup\n",
    "import requests\n",
    "import pandas as pd  \n",
    "\n",
    "# Define Variables\n",
    "url = 'https://en.wikipedia.org/wiki/List_of_largest_companies_in_the_United_States_by_revenue'\n",
    "page = requests.get(url)\n",
    "soup = BeautifulSoup(page.text, 'html')"
   ]
  },
  {
   "cell_type": "code",
   "execution_count": 12,
   "metadata": {},
   "outputs": [],
   "source": [
    "table = soup.find_all('table')[0]\n",
    "worldTitles = table.find_all('th')\n"
   ]
  },
  {
   "cell_type": "code",
   "execution_count": 16,
   "metadata": {},
   "outputs": [],
   "source": [
    "worldTabletitles = [title.text.strip() for title in worldTitles]"
   ]
  },
  {
   "cell_type": "code",
   "execution_count": 15,
   "metadata": {},
   "outputs": [],
   "source": [
    "dataFrame = pd.DataFrame(columns = worldTabletitles)"
   ]
  },
  {
   "cell_type": "code",
   "execution_count": 21,
   "metadata": {},
   "outputs": [],
   "source": [
    "columnData = table.find_all('tr')\n",
    "for row in columnData[1:]:\n",
    "    rowData = row.find_all('td')\n",
    "    individualRowdata = [data.text.strip() for data in rowData]\n",
    "    length = len(dataFrame)\n",
    "    dataFrame.loc[length] = individualRowdata"
   ]
  },
  {
   "cell_type": "code",
   "execution_count": 23,
   "metadata": {},
   "outputs": [],
   "source": [
    "dataFrame.to_csv(r'C:\\Users\\LopezA-5651\\Documents\\Python_Data_Practice\\Companies.csv', index = False)"
   ]
  }
 ],
 "metadata": {
  "kernelspec": {
   "display_name": "base",
   "language": "python",
   "name": "python3"
  },
  "language_info": {
   "codemirror_mode": {
    "name": "ipython",
    "version": 3
   },
   "file_extension": ".py",
   "mimetype": "text/x-python",
   "name": "python",
   "nbconvert_exporter": "python",
   "pygments_lexer": "ipython3",
   "version": "3.12.4"
  }
 },
 "nbformat": 4,
 "nbformat_minor": 2
}
